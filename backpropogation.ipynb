{
 "cells": [
  {
   "cell_type": "code",
   "execution_count": 8,
   "metadata": {},
   "outputs": [],
   "source": [
    "import tensorflow as tf\n",
    "import matplotlib.pyplot as plt\n",
    "import numpy as np\n",
    "from random import randrange"
   ]
  },
  {
   "cell_type": "code",
   "execution_count": 9,
   "metadata": {},
   "outputs": [
    {
     "data": {
      "text/plain": [
       "(60000, 10000)"
      ]
     },
     "execution_count": 9,
     "metadata": {},
     "output_type": "execute_result"
    }
   ],
   "source": [
    "mnist=tf.keras.datasets.mnist\n",
    "(x_train,y_train),(x_test,y_test)=mnist.load_data()\n",
    "len(x_train),len(x_test)\n"
   ]
  },
  {
   "cell_type": "code",
   "execution_count": 14,
   "metadata": {},
   "outputs": [
    {
     "data": {
      "image/png": "[encoded data removed]",
      "text/plain": [
       "<Figure size 432x288 with 1 Axes>"
      ]
     },
     "metadata": {
      "needs_background": "light"
     },
     "output_type": "display_data"
    }
   ],
   "source": [
    "first_image=x_train[randrange(0,len(x_train))]\n",
    "first_image=np.array(first_image,dtype='float')\n",
    "#print(first_image.shape())\n",
    "pixels=first_image.reshape((28,28))\n",
    "\n",
    "plt.imshow(pixels,cmap='Greys')\n",
    "plt.show()"
   ]
  },
  {
   "cell_type": "code",
   "execution_count": 14,
   "metadata": {},
   "outputs": [],
   "source": [
    "# convert the samples from integers to floating point numbers\n",
    "\n",
    "x_train,x_test=x_train/255.0,x_test/255.0"
   ]
  },
  {
   "cell_type": "code",
   "execution_count": 32,
   "metadata": {},
   "outputs": [],
   "source": [
    "# build the model\n",
    "# sequential: creates a linear stack of layer\n",
    "\n",
    "model=tf.keras.models.Sequential([\n",
    "    # flatten the input\n",
    "    tf.keras.layers.Flatten(input_shape=(28,28)),\n",
    "    \n",
    "    #density conected NN layer\n",
    "    #implements the operation:output=activation(dot(input,kernel)+bias)\n",
    "    #activation is element-wise activation function which is passed as an argument\n",
    "    #kernel is a weights matrix created by layer\n",
    "    #bias vector created by layer(if use_bias=true)\n",
    "    #nn=neural network\n",
    "    # instead of relu we can use sigmoid or tanh\n",
    "    tf.keras.layers.Dense(1024,activation=tf.nn.tanh),\n",
    "    \n",
    "    #dropout is regularization technique\n",
    "    #randomly selected neurons are ignored during training\n",
    "    #their contribution to activation of downstrean neurons and\n",
    "    #any weights applied are not applieed to the neuron in the backward pass\n",
    "    tf.keras.layers.Dropout(0.1),\n",
    "    \n",
    "    tf.keras.layers.Dense(10,activation=tf.nn.softmax)\n",
    "])\n",
    "# inplace of adam we can use sgd(stipest gradient descent)\n",
    "model.compile(optimizer='sgd',\n",
    "             loss='sparse_categorical_crossentropy',\n",
    "             metrics=['accuracy'])"
   ]
  },
  {
   "cell_type": "code",
   "execution_count": 33,
   "metadata": {},
   "outputs": [
    {
     "name": "stdout",
     "output_type": "stream",
     "text": [
      "Epoch 1/5\n",
      "60000/60000 [==============================] - 17s 280us/sample - loss: 0.5432 - acc: 0.8591\n",
      "Epoch 2/5\n",
      "60000/60000 [==============================] - 17s 278us/sample - loss: 0.3457 - acc: 0.9021\n",
      "Epoch 3/5\n",
      "60000/60000 [==============================] - 17s 280us/sample - loss: 0.3168 - acc: 0.9097\n",
      "Epoch 4/5\n",
      "60000/60000 [==============================] - 17s 282us/sample - loss: 0.3010 - acc: 0.9150\n",
      "Epoch 5/5\n",
      "60000/60000 [==============================] - 17s 281us/sample - loss: 0.2903 - acc: 0.9175\n",
      "10000/10000 [==============================] - 1s 137us/sample - loss: 0.2761 - acc: 0.9219\n"
     ]
    },
    {
     "data": {
      "text/plain": [
       "[0.2760631847411394, 0.9219]"
      ]
     },
     "execution_count": 33,
     "metadata": {},
     "output_type": "execute_result"
    }
   ],
   "source": [
    "model.fit(x_train,y_train,epochs=5)\n",
    "\n",
    "model.evaluate(x_test,y_test)"
   ]
  },
  {
   "cell_type": "code",
   "execution_count": null,
   "metadata": {},
   "outputs": [],
   "source": []
  }
 ],
 "metadata": {
  "kernelspec": {
   "display_name": "Python 3",
   "language": "python",
   "name": "python3"
  },
  "language_info": {
   "codemirror_mode": {
    "name": "ipython",
    "version": 3
   },
   "file_extension": ".py",
   "mimetype": "text/x-python",
   "name": "python",
   "nbconvert_exporter": "python",
   "pygments_lexer": "ipython3",
   "version": "3.7.3"
  }
 },
 "nbformat": 4,
 "nbformat_minor": 2
}
