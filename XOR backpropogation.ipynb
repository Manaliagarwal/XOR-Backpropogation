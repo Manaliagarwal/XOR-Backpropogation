{
 "cells": [
  {
   "cell_type": "code",
   "execution_count": 11,
   "metadata": {},
   "outputs": [
    {
     "name": "stdout",
     "output_type": "stream",
     "text": [
      "error0.49641003190272537\n",
      "error0.49641003190272537\n",
      "error0.49641003190272537\n",
      "error0.49641003190272537\n",
      "error0.49641003190272537\n",
      "error0.49641003190272537\n",
      "output after training\n",
      "[[0.47372957]\n",
      " [0.48895696]\n",
      " [0.54384086]\n",
      " [0.54470837]]\n"
     ]
    }
   ],
   "source": [
    "import numpy as np\n",
    "def nonlin(x,deriv=False):\n",
    "    if(deriv==True):\n",
    "        return x*(1-x)\n",
    "    return 1/(1+np.exp(-x))\n",
    "x=np.array([[0,0,1],[0,1,1],[1,0,1],[1,1,1]])\n",
    "y=np.array([[0],[1],[1],[0]])\n",
    "np.random.seed(1)\n",
    "syn0=2*np.random.random((3,4))-1\n",
    "syn1=2*np.random.random((4,1))-1\n",
    "\n",
    "for j in range(60000):\n",
    "    l0=x\n",
    "    l1=nonlin(np.dot(l0,syn0))\n",
    "    l2=nonlin(np.dot(l1,syn1))\n",
    "    l2_error=y-l2\n",
    "    if(j%10000)==0:\n",
    "        print(\"error\"+str(np.mean(np.abs(l2_error))))\n",
    "        \n",
    "# gradient are calculated for output layer\n",
    "l2_delta=l2_error*nonlin(l2,deriv=True)\n",
    "\n",
    "# error for hidden layer is calculated\n",
    "l1_error=l2_delta.dot(syn1.T)\n",
    "\n",
    "# gradient for hidden layer is calculated\n",
    "l1_delta=l1_error*nonlin(l1,deriv=True)\n",
    "\n",
    "# weights are uploaded\n",
    "syn1+=l1.T.dot(l2_delta)\n",
    "syn0+=l0.T.dot(l1_delta)\n",
    "\n",
    "print(\"output after training\")\n",
    "print(l2)"
   ]
  },
  {
   "cell_type": "code",
   "execution_count": null,
   "metadata": {},
   "outputs": [],
   "source": []
  }
 ],
 "metadata": {
  "kernelspec": {
   "display_name": "Python 3",
   "language": "python",
   "name": "python3"
  },
  "language_info": {
   "codemirror_mode": {
    "name": "ipython",
    "version": 3
   },
   "file_extension": ".py",
   "mimetype": "text/x-python",
   "name": "python",
   "nbconvert_exporter": "python",
   "pygments_lexer": "ipython3",
   "version": "3.7.3"
  }
 },
 "nbformat": 4,
 "nbformat_minor": 2
}
